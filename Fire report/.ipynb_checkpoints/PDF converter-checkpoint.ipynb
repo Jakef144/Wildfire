{
 "cells": [
  {
   "cell_type": "code",
   "execution_count": null,
   "id": "27ad88f5-7966-4d85-ac8a-7dbbd2228d2b",
   "metadata": {
    "scrolled": true
   },
   "outputs": [],
   "source": [
    "# Import necessary libraries  \n",
    "import fitz  # PyMuPDF  \n",
    "import os  \n",
    "import json  \n",
    "import PyMuPDF as fitz \n",
    "\n",
    "# Define the PDF file path  \n",
    "pdf_path = 'annual_report_2008_508.pdf'  \n",
    "  \n",
    "# Check if the file exists  \n",
    "if not os.path.exists(pdf_path):  \n",
    "    print(\"File not found. Please check the file path.\")  \n",
    "else:  \n",
    "    print(\"File found. Starting PDF to JSON conversion...\")  \n",
    "  \n",
    "    # Open the PDF file  \n",
    "    pdf_document = fitz.open(pdf_path)  \n",
    "    num_pages = len(pdf_document)  \n",
    "    print(\"Number of pages:\", num_pages)  \n",
    "  \n",
    "    # Create a dictionary where each page's text is stored  \n",
    "    pdf_data = {}  \n",
    "  \n",
    "    for page_num in range(num_pages):  \n",
    "        page = pdf_document[page_num]  \n",
    "        text = page.get_text()  \n",
    "        # Store the text in the dictionary with page number as key (starting at 1)  \n",
    "        pdf_data[page_num + 1] = text  \n",
    "  \n",
    "    pdf_document.close()  \n",
    "    print(\"Finished extracting text from all pages.\")  \n",
    "  \n",
    "    # Specify the output JSON file path  \n",
    "    json_output_path = 'annual_report_2008_508.json'  \n",
    "      \n",
    "    # Make sure the directory exists  \n",
    "    output_dir = os.path.dirname(json_output_path)  \n",
    "    if output_dir and not os.path.exists(output_dir):  \n",
    "        os.makedirs(output_dir)  \n",
    "      \n",
    "    # Write the dictionary to a JSON file  \n",
    "    with open(json_output_path, 'w', encoding='utf-8') as json_file:  \n",
    "        json.dump(pdf_data, json_file, ensure_ascii=False, indent=4)  \n",
    "      \n",
    "    print(\"JSON file saved as:\", json_output_path)    "
   ]
  },
  {
   "cell_type": "code",
   "execution_count": null,
   "id": "4788cf34-6e62-4ff4-b86d-4ff55598ac7c",
   "metadata": {
    "scrolled": true
   },
   "outputs": [],
   "source": []
  }
 ],
 "metadata": {
  "kernelspec": {
   "display_name": "Python 3 (ipykernel)",
   "language": "python",
   "name": "python3"
  },
  "language_info": {
   "codemirror_mode": {
    "name": "ipython",
    "version": 3
   },
   "file_extension": ".py",
   "mimetype": "text/x-python",
   "name": "python",
   "nbconvert_exporter": "python",
   "pygments_lexer": "ipython3",
   "version": "3.12.4"
  }
 },
 "nbformat": 4,
 "nbformat_minor": 5
}
